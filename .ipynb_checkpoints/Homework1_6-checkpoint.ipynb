{
 "cells": [
  {
   "cell_type": "code",
   "execution_count": 18,
   "id": "c551ebf7-91f7-4288-a5bd-4a06e5d8b7bd",
   "metadata": {},
   "outputs": [],
   "source": [
    "import networkx as nx\n",
    "import random\n",
    "from collections import deque\n",
    "import utils\n",
    "\n",
    "\n",
    "def info(G):\n",
    "    print(\"{:>10s} | '{:s}'\".format('Graph', G.name))\n",
    "    \n",
    "    n = G.number_of_nodes()\n",
    "    n0, n1, delta = 0, 0, 0\n",
    "    print(\"{:>10s} | {:,d} ({:,d}, {:,d})\".format('Nodes', n, n0, n1))\n",
    "    \n",
    "    m = G.number_of_edges()\n",
    "    print(\"{:>10s} | {:.2f} ({:,d})\".format('Degree', 2 * m / n, delta))\n",
    "    print(\"{:>10s} | {:d}\".format(\"Directed\",G.is_directed()))\n",
    "    print()\n",
    "\n",
    "\n"
   ]
  },
  {
   "cell_type": "code",
   "execution_count": 37,
   "id": "042564f9-6ae9-43cf-9f65-ae95a9d52157",
   "metadata": {},
   "outputs": [],
   "source": [
    "names = [\"network_1\",\"network_2\",\"network_3\",\"network_4\",\"network_5\"]\n",
    "graphs =[]\n",
    "for name in names:\n",
    "    G = nx.read_adjlist(f\"./networks/{name}.adj\")\n",
    "    G = nx.convert_node_labels_to_integers(G, label_attribute = 'label')\n",
    "    G.name = name\n",
    "    graphs.append(G)\n",
    "    #info(G)"
   ]
  },
  {
   "cell_type": "code",
   "execution_count": 46,
   "id": "456ba1af-8d2b-4306-bc10-badf04a13cb1",
   "metadata": {},
   "outputs": [],
   "source": [
    "def compute_network_statistics(G):\n",
    "    n = G.number_of_nodes()\n",
    "    # Get the number of edges in the graph.\n",
    "    m = G.number_of_edges()\n",
    "    avg_k = 2 * m / n\n",
    "    density = 2 * m / n / (n - 1)\n",
    "    degree_sequence = sorted((d for n, d in G.degree()), reverse=True)\n",
    "    dmax = max(degree_sequence)\n",
    "    c_nx = nx.average_clustering(G)\n",
    "\n",
    "    return {\n",
    "        'Number of Nodes': n,\n",
    "        'Number of Edges': m,\n",
    "        'Average Degree': avg_k,\n",
    "        'Density': density,\n",
    "        'Max Degree' : dmax\n",
    "        'Average Clustering': c_nx\n",
    "    }"
   ]
  },
  {
   "cell_type": "code",
   "execution_count": 47,
   "id": "6edd0a67-1e64-4029-b967-f714c7789a56",
   "metadata": {},
   "outputs": [
    {
     "name": "stdout",
     "output_type": "stream",
     "text": [
      "{'Number of Nodes': 291934, 'Number of Edges': 2074022, 'Average Degree': 14.208841724499374, 'Density': 4.8671584659834186e-05, 'Max Degree': 21442}\n",
      "{'Number of Nodes': 189207, 'Number of Edges': 1406968, 'Average Degree': 14.872261597086789, 'Density': 7.860354109852113e-05, 'Max Degree': 44}\n",
      "{'Number of Nodes': 94093, 'Number of Edges': 1532516, 'Average Degree': 32.57449544599492, 'Density': 0.0003461983531649335, 'Max Degree': 10622}\n",
      "{'Number of Nodes': 202275, 'Number of Edges': 1018194, 'Average Degree': 10.067423062662217, 'Density': 4.9771216580787526e-05, 'Max Degree': 5606}\n",
      "{'Number of Nodes': 83159, 'Number of Edges': 11020502, 'Average Degree': 265.04652533099244, 'Density': 0.0031872643080761015, 'Max Degree': 6514}\n"
     ]
    }
   ],
   "source": [
    "for g in graphs:\n",
    "    print(compute_network_statistics(g))"
   ]
  },
  {
   "cell_type": "code",
   "execution_count": null,
   "id": "7b7c4526-3897-45b3-a0d7-67755031048a",
   "metadata": {},
   "outputs": [],
   "source": []
  }
 ],
 "metadata": {
  "kernelspec": {
   "display_name": "Python 3 (ipykernel)",
   "language": "python",
   "name": "python3"
  },
  "language_info": {
   "codemirror_mode": {
    "name": "ipython",
    "version": 3
   },
   "file_extension": ".py",
   "mimetype": "text/x-python",
   "name": "python",
   "nbconvert_exporter": "python",
   "pygments_lexer": "ipython3",
   "version": "3.12.0"
  }
 },
 "nbformat": 4,
 "nbformat_minor": 5
}
