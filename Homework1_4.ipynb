{
 "cells": [
  {
   "cell_type": "markdown",
   "id": "f6f9fddf-4300-4e6a-bd3f-7f2017b7a2f0",
   "metadata": {},
   "source": [
    "DFS - Following the directions"
   ]
  },
  {
   "cell_type": "code",
   "execution_count": 17,
   "id": "aee77eec-9374-4731-9668-eb42eea39021",
   "metadata": {},
   "outputs": [],
   "source": [
    "import networkx as nx\n",
    "import random\n",
    "from collections import deque\n",
    "\n",
    "network_name = \"enron.net\"\n",
    "G = nx.read_pajek(network_name)\n",
    "G = nx.convert_node_labels_to_integers(nx.DiGraph(G),first_label=1)\n",
    "G.name = network_name"
   ]
  },
  {
   "cell_type": "code",
   "execution_count": 38,
   "id": "7b11cd3d-bacb-40fa-abab-9bff292a10b5",
   "metadata": {},
   "outputs": [],
   "source": [
    "test_G = nx.read_pajek(\"test.net\")\n",
    "test_G = nx.convert_node_labels_to_integers(nx.DiGraph(test_G),first_label=1)\n",
    "test_G.name = \"test\""
   ]
  },
  {
   "cell_type": "code",
   "execution_count": 125,
   "id": "1c7b62bb-18a7-491d-8bbc-d21862b60ce0",
   "metadata": {},
   "outputs": [
    {
     "name": "stdout",
     "output_type": "stream",
     "text": [
      "DFS:{2, 3, 4, 5}, IDFS: {1, 2, 3, 4}\n",
      "Strong connectivity:  {2, 3, 4}\n"
     ]
    }
   ],
   "source": [
    "def DFS(G: nx.Graph, node,v):\n",
    "    #We create an empty set, where visited vertices will be.\n",
    "    visited = set()\n",
    "    stack = []\n",
    "    stack.append(node)\n",
    "    while stack:\n",
    "        u = stack.pop()\n",
    "        if u not in visited and u not in v:\n",
    "            visited.add(u)\n",
    "            for neighbor in G.neighbors(u):\n",
    "                stack.append(neighbor)\n",
    "    return visited\n",
    "#For reverse DFS, we can just call G.reverse() on existing graph\n",
    "visited=set()\n",
    "test_dfs = DFS(test_G,4,visited)\n",
    "visited=set()\n",
    "test_idfs = DFS(test_G.reverse(),4,visited)\n",
    "\n",
    "print(f\"DFS:{test_dfs}, IDFS: {test_idfs}\")\n",
    "print(\"Strong connectivity: \",test_dfs.intersection(test_idfs))"
   ]
  },
  {
   "cell_type": "code",
   "execution_count": 140,
   "id": "d55e133c-30cd-4451-b4ac-2d45d672b0dc",
   "metadata": {},
   "outputs": [
    {
     "name": "stdout",
     "output_type": "stream",
     "text": [
      "time in seconds: 1.2335569858551025\n"
     ]
    }
   ],
   "source": [
    "#Finding the largest connectivity\n",
    "def connectivity_function(G):\n",
    "    visited = set()\n",
    "    connectivity = []\n",
    "    G_rev = G.reverse()\n",
    "    for i in G:\n",
    "        if i not in visited:\n",
    "            crawl = DFS(G,i,visited)\n",
    "            crawl_reverse = DFS(G_rev,i,visited)\n",
    "            \n",
    "            #now we check the intersection of the node i\n",
    "            intersection = crawl.intersection(crawl_reverse)\n",
    "            visited.update(intersection) #we add the nodes that are intersected, so we don't look at them again\n",
    "            connectivity.append(intersection)\n",
    "    return connectivity\n",
    "\n",
    "import time\n",
    "t = time.time()\n",
    "connectivity = connectivity_function(G)\n",
    "print(f\"time in seconds: {str(time.time()-t)}\")\n",
    "#print(connectivity)"
   ]
  },
  {
   "cell_type": "code",
   "execution_count": 139,
   "id": "bcec8f00-5e7b-492c-87db-dba0da35f362",
   "metadata": {},
   "outputs": [
    {
     "name": "stdout",
     "output_type": "stream",
     "text": [
      "number of strongly connected components: 78058\n",
      "largest strongly connectivity length: 9164\n"
     ]
    }
   ],
   "source": [
    "largest_connectivity = max(connectivity,key=len)\n",
    "print(f\"number of strongly connected components: {len(connectivity)}\")\n",
    "print(f\"largest strongly connectivity length: {len(largest_connectivity)}\")#, the connectivity being:{largest_connectivity}\")"
   ]
  }
 ],
 "metadata": {
  "kernelspec": {
   "display_name": "Python 3 (ipykernel)",
   "language": "python",
   "name": "python3"
  },
  "language_info": {
   "codemirror_mode": {
    "name": "ipython",
    "version": 3
   },
   "file_extension": ".py",
   "mimetype": "text/x-python",
   "name": "python",
   "nbconvert_exporter": "python",
   "pygments_lexer": "ipython3",
   "version": "3.12.2"
  }
 },
 "nbformat": 4,
 "nbformat_minor": 5
}
