{
 "cells": [
  {
   "cell_type": "code",
   "execution_count": 1,
   "id": "c551ebf7-91f7-4288-a5bd-4a06e5d8b7bd",
   "metadata": {},
   "outputs": [],
   "source": [
    "import networkx as nx\n",
    "import random\n",
    "from collections import deque\n",
    "import matplotlib.pyplot as plt"
   ]
  },
  {
   "cell_type": "code",
   "execution_count": 6,
   "id": "042564f9-6ae9-43cf-9f65-ae95a9d52157",
   "metadata": {},
   "outputs": [],
   "source": [
    "G = nx.read_pajek(\"lucene.net\")\n",
    "G = nx.convert_node_labels_to_integers(nx.Graph(G), label_attribute = 'label')\n",
    "G.name = \"lucene.net\""
   ]
  },
  {
   "cell_type": "code",
   "execution_count": 7,
   "id": "456ba1af-8d2b-4306-bc10-badf04a13cb1",
   "metadata": {},
   "outputs": [],
   "source": [
    "def compute_network_statistics(G):\n",
    "    n = G.number_of_nodes()\n",
    "    # Get the number of edges in the graph.\n",
    "    m = G.number_of_edges()\n",
    "    avg_k = 2 * m / n\n",
    "    density = 2 * m / n / (n - 1)\n",
    "    degree_sequence = sorted((d for n, d in G.degree()), reverse=True)\n",
    "    dmax = max(degree_sequence)\n",
    "    c_nx = nx.average_clustering(G)\n",
    "\n",
    "    return {\n",
    "        'Number of Nodes': n,\n",
    "        'Number of Edges': m,\n",
    "        'Average Degree': avg_k,\n",
    "        'Density': density,\n",
    "        'Max Degree' : dmax,\n",
    "        'Average Clustering': c_nx\n",
    "    }"
   ]
  },
  {
   "cell_type": "code",
   "execution_count": 8,
   "id": "6edd0a67-1e64-4029-b967-f714c7789a56",
   "metadata": {},
   "outputs": [
    {
     "name": "stdout",
     "output_type": "stream",
     "text": [
      "{'Number of Nodes': 2956, 'Number of Edges': 10845, 'Average Degree': 7.337618403247632, 'Density': 0.002483119595007659, 'Max Degree': 423, 'Average Clustering': 0.42114540917542725}\n"
     ]
    }
   ],
   "source": [
    "print(compute_network_statistics(G))"
   ]
  },
  {
   "cell_type": "code",
   "execution_count": null,
   "id": "8decee58-6d9a-4191-a6f1-4a776bf1dc3e",
   "metadata": {},
   "outputs": [],
   "source": []
  }
 ],
 "metadata": {
  "kernelspec": {
   "display_name": "Python 3 (ipykernel)",
   "language": "python",
   "name": "python3"
  },
  "language_info": {
   "codemirror_mode": {
    "name": "ipython",
    "version": 3
   },
   "file_extension": ".py",
   "mimetype": "text/x-python",
   "name": "python",
   "nbconvert_exporter": "python",
   "pygments_lexer": "ipython3",
   "version": "3.12.0"
  }
 },
 "nbformat": 4,
 "nbformat_minor": 5
}
